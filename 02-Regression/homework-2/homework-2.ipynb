{
 "cells": [
  {
   "cell_type": "code",
   "execution_count": 1,
   "id": "737a576f",
   "metadata": {},
   "outputs": [],
   "source": [
    "import numpy as np\n",
    "import pandas as pd\n",
    "\n",
    "import matplotlib.pyplot as plt\n",
    "import seaborn as sns\n",
    "\n",
    "%matplotlib inline"
   ]
  },
  {
   "cell_type": "markdown",
   "id": "62d03d7f",
   "metadata": {},
   "source": [
    "## Homework 2\n",
    "\n",
    "### Dataset\n",
    "\n",
    "For this homework, we'll use the Car Fuel Efficiency dataset. Download it from [here](https://raw.githubusercontent.com/alexeygrigorev/datasets/master/car_fuel_efficiency.csv).\n",
    "\n",
    "You can do it with wget:\n",
    "\n",
    "```wget https://raw.githubusercontent.com/alexeygrigorev/datasets/master/car_fuel_efficiency.csv```\n",
    "\n",
    "The goal of this homework is to create a regression model for predicting the car fuel efficiency (column 'fuel_efficiency_mpg').\n",
    "\n",
    "### Preparing the dataset\n",
    "\n",
    "Use only the following columns:\n",
    "\n",
    "```'engine_displacement'```,\n",
    "```'horsepower'```,\n",
    "```'vehicle_weight'```,\n",
    "```'model_year'```,\n",
    "```'fuel_efficiency_mpg'```\n",
    "### EDA\n",
    "\n",
    "Look at the fuel_efficiency_mpg variable. Does it have a long tail?\n",
    "**Question 1**\n",
    "\n",
    "There's one column with missing values. What is it?\n",
    "\n",
    "* ```'engine_displacement'```\n",
    "* ```'horsepower'```\n",
    "* ```'vehicle_weight'```\n",
    "* ```'model_year'```\n"
   ]
  },
  {
   "cell_type": "code",
   "execution_count": 2,
   "id": "79afeb81",
   "metadata": {},
   "outputs": [],
   "source": [
    "data = \"https://raw.githubusercontent.com/alexeygrigorev/datasets/master/car_fuel_efficiency.csv\"\n",
    "#!wget $data"
   ]
  },
  {
   "cell_type": "code",
   "execution_count": 3,
   "id": "9cd2b675",
   "metadata": {},
   "outputs": [
    {
     "data": {
      "text/html": [
       "<div>\n",
       "<style scoped>\n",
       "    .dataframe tbody tr th:only-of-type {\n",
       "        vertical-align: middle;\n",
       "    }\n",
       "\n",
       "    .dataframe tbody tr th {\n",
       "        vertical-align: top;\n",
       "    }\n",
       "\n",
       "    .dataframe thead th {\n",
       "        text-align: right;\n",
       "    }\n",
       "</style>\n",
       "<table border=\"1\" class=\"dataframe\">\n",
       "  <thead>\n",
       "    <tr style=\"text-align: right;\">\n",
       "      <th></th>\n",
       "      <th>engine_displacement</th>\n",
       "      <th>num_cylinders</th>\n",
       "      <th>horsepower</th>\n",
       "      <th>vehicle_weight</th>\n",
       "      <th>acceleration</th>\n",
       "      <th>model_year</th>\n",
       "      <th>origin</th>\n",
       "      <th>fuel_type</th>\n",
       "      <th>drivetrain</th>\n",
       "      <th>num_doors</th>\n",
       "      <th>fuel_efficiency_mpg</th>\n",
       "    </tr>\n",
       "  </thead>\n",
       "  <tbody>\n",
       "    <tr>\n",
       "      <th>0</th>\n",
       "      <td>170</td>\n",
       "      <td>3.0</td>\n",
       "      <td>159.0</td>\n",
       "      <td>3413.433759</td>\n",
       "      <td>17.7</td>\n",
       "      <td>2003</td>\n",
       "      <td>Europe</td>\n",
       "      <td>Gasoline</td>\n",
       "      <td>All-wheel drive</td>\n",
       "      <td>0.0</td>\n",
       "      <td>13.231729</td>\n",
       "    </tr>\n",
       "    <tr>\n",
       "      <th>1</th>\n",
       "      <td>130</td>\n",
       "      <td>5.0</td>\n",
       "      <td>97.0</td>\n",
       "      <td>3149.664934</td>\n",
       "      <td>17.8</td>\n",
       "      <td>2007</td>\n",
       "      <td>USA</td>\n",
       "      <td>Gasoline</td>\n",
       "      <td>Front-wheel drive</td>\n",
       "      <td>0.0</td>\n",
       "      <td>13.688217</td>\n",
       "    </tr>\n",
       "    <tr>\n",
       "      <th>2</th>\n",
       "      <td>170</td>\n",
       "      <td>NaN</td>\n",
       "      <td>78.0</td>\n",
       "      <td>3079.038997</td>\n",
       "      <td>15.1</td>\n",
       "      <td>2018</td>\n",
       "      <td>Europe</td>\n",
       "      <td>Gasoline</td>\n",
       "      <td>Front-wheel drive</td>\n",
       "      <td>0.0</td>\n",
       "      <td>14.246341</td>\n",
       "    </tr>\n",
       "    <tr>\n",
       "      <th>3</th>\n",
       "      <td>220</td>\n",
       "      <td>4.0</td>\n",
       "      <td>NaN</td>\n",
       "      <td>2542.392402</td>\n",
       "      <td>20.2</td>\n",
       "      <td>2009</td>\n",
       "      <td>USA</td>\n",
       "      <td>Diesel</td>\n",
       "      <td>All-wheel drive</td>\n",
       "      <td>2.0</td>\n",
       "      <td>16.912736</td>\n",
       "    </tr>\n",
       "    <tr>\n",
       "      <th>4</th>\n",
       "      <td>210</td>\n",
       "      <td>1.0</td>\n",
       "      <td>140.0</td>\n",
       "      <td>3460.870990</td>\n",
       "      <td>14.4</td>\n",
       "      <td>2009</td>\n",
       "      <td>Europe</td>\n",
       "      <td>Gasoline</td>\n",
       "      <td>All-wheel drive</td>\n",
       "      <td>2.0</td>\n",
       "      <td>12.488369</td>\n",
       "    </tr>\n",
       "  </tbody>\n",
       "</table>\n",
       "</div>"
      ],
      "text/plain": [
       "   engine_displacement  num_cylinders  horsepower  vehicle_weight  \\\n",
       "0                  170            3.0       159.0     3413.433759   \n",
       "1                  130            5.0        97.0     3149.664934   \n",
       "2                  170            NaN        78.0     3079.038997   \n",
       "3                  220            4.0         NaN     2542.392402   \n",
       "4                  210            1.0       140.0     3460.870990   \n",
       "\n",
       "   acceleration  model_year  origin fuel_type         drivetrain  num_doors  \\\n",
       "0          17.7        2003  Europe  Gasoline    All-wheel drive        0.0   \n",
       "1          17.8        2007     USA  Gasoline  Front-wheel drive        0.0   \n",
       "2          15.1        2018  Europe  Gasoline  Front-wheel drive        0.0   \n",
       "3          20.2        2009     USA    Diesel    All-wheel drive        2.0   \n",
       "4          14.4        2009  Europe  Gasoline    All-wheel drive        2.0   \n",
       "\n",
       "   fuel_efficiency_mpg  \n",
       "0            13.231729  \n",
       "1            13.688217  \n",
       "2            14.246341  \n",
       "3            16.912736  \n",
       "4            12.488369  "
      ]
     },
     "execution_count": 3,
     "metadata": {},
     "output_type": "execute_result"
    }
   ],
   "source": [
    "df = pd.read_csv('car_fuel_efficiency.csv')\n",
    "df.head()"
   ]
  },
  {
   "cell_type": "markdown",
   "id": "45a4a86f",
   "metadata": {},
   "source": [
    "## Question 1\n",
    "\n",
    "There's one column with missing values. What is it?\n",
    "\n",
    "* ```'engine_displacement'```\n",
    "* **```'horsepower'```**  *has missing values*\n",
    "* ```'vehicle_weight'```\n",
    "* ```'model_year'```"
   ]
  },
  {
   "cell_type": "code",
   "execution_count": 4,
   "id": "f5015f25",
   "metadata": {},
   "outputs": [
    {
     "data": {
      "text/plain": [
       "engine_displacement      0\n",
       "horsepower             708\n",
       "vehicle_weight           0\n",
       "model_year               0\n",
       "fuel_efficiency_mpg      0\n",
       "dtype: int64"
      ]
     },
     "execution_count": 4,
     "metadata": {},
     "output_type": "execute_result"
    }
   ],
   "source": [
    "df_cols= df[['engine_displacement',\n",
    "    'horsepower',\n",
    "    'vehicle_weight',\n",
    "    'model_year',\n",
    "    'fuel_efficiency_mpg'\n",
    "]]\n",
    "# find columns with null/missing values\n",
    "df_cols.isnull().sum()"
   ]
  },
  {
   "cell_type": "markdown",
   "id": "6900f43a",
   "metadata": {},
   "source": [
    "The column horsepower has 708 null/missing values."
   ]
  },
  {
   "cell_type": "markdown",
   "id": "52d22e07",
   "metadata": {},
   "source": [
    "## Question 2\n",
    "\n",
    "What's the median (50% percentile) for variable ```'horsepower'```?\n",
    "\n",
    "* 49\n",
    "* 99\n",
    "* **149**\n",
    "* 199"
   ]
  },
  {
   "cell_type": "code",
   "execution_count": 5,
   "id": "57a21da2",
   "metadata": {},
   "outputs": [
    {
     "data": {
      "text/plain": [
       "np.float64(149.0)"
      ]
     },
     "execution_count": 5,
     "metadata": {},
     "output_type": "execute_result"
    }
   ],
   "source": [
    "df_cols.horsepower.median()"
   ]
  },
  {
   "cell_type": "markdown",
   "id": "f214ebad",
   "metadata": {},
   "source": [
    "### Prepare and split the dataset\n",
    "\n",
    "* Shuffle the dataset (the filtered one you created above), use seed 42.\n",
    "* Split your data in train/val/test sets, with 60%/20%/20% distribution.\n",
    "\n",
    "Use the same code as in the lectures"
   ]
  },
  {
   "cell_type": "code",
   "execution_count": 6,
   "id": "0001fb0e",
   "metadata": {},
   "outputs": [],
   "source": [
    "n = len(df_cols) # total number of record is data\n",
    "\n",
    "n_val = int(n * 0.2)  # number of records in validation set\n",
    "n_test = int(n * 0.2) # number of records in test set\n",
    "n_train = n - n_val - n_test # number of records in training set"
   ]
  },
  {
   "cell_type": "code",
   "execution_count": 7,
   "id": "2f94c52e",
   "metadata": {},
   "outputs": [
    {
     "data": {
      "text/plain": [
       "(9704, 1940, 1940, 5824)"
      ]
     },
     "execution_count": 7,
     "metadata": {},
     "output_type": "execute_result"
    }
   ],
   "source": [
    "n, n_val, n_test, n_train"
   ]
  },
  {
   "cell_type": "code",
   "execution_count": 8,
   "id": "180ceb83",
   "metadata": {},
   "outputs": [
    {
     "data": {
      "text/html": [
       "<div>\n",
       "<style scoped>\n",
       "    .dataframe tbody tr th:only-of-type {\n",
       "        vertical-align: middle;\n",
       "    }\n",
       "\n",
       "    .dataframe tbody tr th {\n",
       "        vertical-align: top;\n",
       "    }\n",
       "\n",
       "    .dataframe thead th {\n",
       "        text-align: right;\n",
       "    }\n",
       "</style>\n",
       "<table border=\"1\" class=\"dataframe\">\n",
       "  <thead>\n",
       "    <tr style=\"text-align: right;\">\n",
       "      <th></th>\n",
       "      <th>engine_displacement</th>\n",
       "      <th>horsepower</th>\n",
       "      <th>vehicle_weight</th>\n",
       "      <th>model_year</th>\n",
       "      <th>fuel_efficiency_mpg</th>\n",
       "    </tr>\n",
       "  </thead>\n",
       "  <tbody>\n",
       "    <tr>\n",
       "      <th>483</th>\n",
       "      <td>220</td>\n",
       "      <td>144.0</td>\n",
       "      <td>2535.887591</td>\n",
       "      <td>2009</td>\n",
       "      <td>16.642943</td>\n",
       "    </tr>\n",
       "    <tr>\n",
       "      <th>7506</th>\n",
       "      <td>160</td>\n",
       "      <td>141.0</td>\n",
       "      <td>2741.170484</td>\n",
       "      <td>2019</td>\n",
       "      <td>16.298377</td>\n",
       "    </tr>\n",
       "    <tr>\n",
       "      <th>8795</th>\n",
       "      <td>230</td>\n",
       "      <td>155.0</td>\n",
       "      <td>2471.880237</td>\n",
       "      <td>2017</td>\n",
       "      <td>18.591822</td>\n",
       "    </tr>\n",
       "    <tr>\n",
       "      <th>1688</th>\n",
       "      <td>150</td>\n",
       "      <td>206.0</td>\n",
       "      <td>3748.164469</td>\n",
       "      <td>2015</td>\n",
       "      <td>11.818843</td>\n",
       "    </tr>\n",
       "    <tr>\n",
       "      <th>6217</th>\n",
       "      <td>300</td>\n",
       "      <td>111.0</td>\n",
       "      <td>2135.716359</td>\n",
       "      <td>2006</td>\n",
       "      <td>19.402209</td>\n",
       "    </tr>\n",
       "    <tr>\n",
       "      <th>...</th>\n",
       "      <td>...</td>\n",
       "      <td>...</td>\n",
       "      <td>...</td>\n",
       "      <td>...</td>\n",
       "      <td>...</td>\n",
       "    </tr>\n",
       "    <tr>\n",
       "      <th>1696</th>\n",
       "      <td>260</td>\n",
       "      <td>139.0</td>\n",
       "      <td>2606.972984</td>\n",
       "      <td>2009</td>\n",
       "      <td>16.964054</td>\n",
       "    </tr>\n",
       "    <tr>\n",
       "      <th>5685</th>\n",
       "      <td>280</td>\n",
       "      <td>132.0</td>\n",
       "      <td>4004.214323</td>\n",
       "      <td>2014</td>\n",
       "      <td>10.059094</td>\n",
       "    </tr>\n",
       "    <tr>\n",
       "      <th>6735</th>\n",
       "      <td>210</td>\n",
       "      <td>152.0</td>\n",
       "      <td>2500.175687</td>\n",
       "      <td>2020</td>\n",
       "      <td>17.593237</td>\n",
       "    </tr>\n",
       "    <tr>\n",
       "      <th>2052</th>\n",
       "      <td>250</td>\n",
       "      <td>154.0</td>\n",
       "      <td>2254.313245</td>\n",
       "      <td>2002</td>\n",
       "      <td>18.925748</td>\n",
       "    </tr>\n",
       "    <tr>\n",
       "      <th>1776</th>\n",
       "      <td>210</td>\n",
       "      <td>152.0</td>\n",
       "      <td>2435.203606</td>\n",
       "      <td>2004</td>\n",
       "      <td>17.965284</td>\n",
       "    </tr>\n",
       "  </tbody>\n",
       "</table>\n",
       "<p>5824 rows × 5 columns</p>\n",
       "</div>"
      ],
      "text/plain": [
       "      engine_displacement  horsepower  vehicle_weight  model_year  \\\n",
       "483                   220       144.0     2535.887591        2009   \n",
       "7506                  160       141.0     2741.170484        2019   \n",
       "8795                  230       155.0     2471.880237        2017   \n",
       "1688                  150       206.0     3748.164469        2015   \n",
       "6217                  300       111.0     2135.716359        2006   \n",
       "...                   ...         ...             ...         ...   \n",
       "1696                  260       139.0     2606.972984        2009   \n",
       "5685                  280       132.0     4004.214323        2014   \n",
       "6735                  210       152.0     2500.175687        2020   \n",
       "2052                  250       154.0     2254.313245        2002   \n",
       "1776                  210       152.0     2435.203606        2004   \n",
       "\n",
       "      fuel_efficiency_mpg  \n",
       "483             16.642943  \n",
       "7506            16.298377  \n",
       "8795            18.591822  \n",
       "1688            11.818843  \n",
       "6217            19.402209  \n",
       "...                   ...  \n",
       "1696            16.964054  \n",
       "5685            10.059094  \n",
       "6735            17.593237  \n",
       "2052            18.925748  \n",
       "1776            17.965284  \n",
       "\n",
       "[5824 rows x 5 columns]"
      ]
     },
     "execution_count": 8,
     "metadata": {},
     "output_type": "execute_result"
    }
   ],
   "source": [
    "idx = np.arange(n) \n",
    "\n",
    "# randomize the data\n",
    "np.random.seed(42)\n",
    "np.random.shuffle(idx)\n",
    "\n",
    "# now split the data using idx\n",
    "df_train = df_cols.iloc[idx[:n_train]]\n",
    "df_val = df_cols.iloc[idx[n_train:n_train+n_val]]\n",
    "df_test = df_cols.iloc[idx[n_train+n_val:]]\n",
    "\n",
    "df_train"
   ]
  },
  {
   "cell_type": "code",
   "execution_count": 9,
   "id": "afbfa57d",
   "metadata": {},
   "outputs": [
    {
     "data": {
      "text/plain": [
       "(5824, 1940, 1940)"
      ]
     },
     "execution_count": 9,
     "metadata": {},
     "output_type": "execute_result"
    }
   ],
   "source": [
    "len(df_train), len(df_val), len(df_test)"
   ]
  },
  {
   "cell_type": "code",
   "execution_count": 10,
   "id": "0ea4a95f",
   "metadata": {},
   "outputs": [
    {
     "data": {
      "text/html": [
       "<div>\n",
       "<style scoped>\n",
       "    .dataframe tbody tr th:only-of-type {\n",
       "        vertical-align: middle;\n",
       "    }\n",
       "\n",
       "    .dataframe tbody tr th {\n",
       "        vertical-align: top;\n",
       "    }\n",
       "\n",
       "    .dataframe thead th {\n",
       "        text-align: right;\n",
       "    }\n",
       "</style>\n",
       "<table border=\"1\" class=\"dataframe\">\n",
       "  <thead>\n",
       "    <tr style=\"text-align: right;\">\n",
       "      <th></th>\n",
       "      <th>engine_displacement</th>\n",
       "      <th>horsepower</th>\n",
       "      <th>vehicle_weight</th>\n",
       "      <th>model_year</th>\n",
       "      <th>fuel_efficiency_mpg</th>\n",
       "    </tr>\n",
       "  </thead>\n",
       "  <tbody>\n",
       "    <tr>\n",
       "      <th>483</th>\n",
       "      <td>220</td>\n",
       "      <td>144.0</td>\n",
       "      <td>2535.887591</td>\n",
       "      <td>2009</td>\n",
       "      <td>16.642943</td>\n",
       "    </tr>\n",
       "    <tr>\n",
       "      <th>7506</th>\n",
       "      <td>160</td>\n",
       "      <td>141.0</td>\n",
       "      <td>2741.170484</td>\n",
       "      <td>2019</td>\n",
       "      <td>16.298377</td>\n",
       "    </tr>\n",
       "    <tr>\n",
       "      <th>8795</th>\n",
       "      <td>230</td>\n",
       "      <td>155.0</td>\n",
       "      <td>2471.880237</td>\n",
       "      <td>2017</td>\n",
       "      <td>18.591822</td>\n",
       "    </tr>\n",
       "    <tr>\n",
       "      <th>1688</th>\n",
       "      <td>150</td>\n",
       "      <td>206.0</td>\n",
       "      <td>3748.164469</td>\n",
       "      <td>2015</td>\n",
       "      <td>11.818843</td>\n",
       "    </tr>\n",
       "    <tr>\n",
       "      <th>6217</th>\n",
       "      <td>300</td>\n",
       "      <td>111.0</td>\n",
       "      <td>2135.716359</td>\n",
       "      <td>2006</td>\n",
       "      <td>19.402209</td>\n",
       "    </tr>\n",
       "  </tbody>\n",
       "</table>\n",
       "</div>"
      ],
      "text/plain": [
       "      engine_displacement  horsepower  vehicle_weight  model_year  \\\n",
       "483                   220       144.0     2535.887591        2009   \n",
       "7506                  160       141.0     2741.170484        2019   \n",
       "8795                  230       155.0     2471.880237        2017   \n",
       "1688                  150       206.0     3748.164469        2015   \n",
       "6217                  300       111.0     2135.716359        2006   \n",
       "\n",
       "      fuel_efficiency_mpg  \n",
       "483             16.642943  \n",
       "7506            16.298377  \n",
       "8795            18.591822  \n",
       "1688            11.818843  \n",
       "6217            19.402209  "
      ]
     },
     "execution_count": 10,
     "metadata": {},
     "output_type": "execute_result"
    }
   ],
   "source": [
    "df_train.head()"
   ]
  },
  {
   "cell_type": "code",
   "execution_count": 11,
   "id": "94db3805",
   "metadata": {},
   "outputs": [
    {
     "data": {
      "text/html": [
       "<div>\n",
       "<style scoped>\n",
       "    .dataframe tbody tr th:only-of-type {\n",
       "        vertical-align: middle;\n",
       "    }\n",
       "\n",
       "    .dataframe tbody tr th {\n",
       "        vertical-align: top;\n",
       "    }\n",
       "\n",
       "    .dataframe thead th {\n",
       "        text-align: right;\n",
       "    }\n",
       "</style>\n",
       "<table border=\"1\" class=\"dataframe\">\n",
       "  <thead>\n",
       "    <tr style=\"text-align: right;\">\n",
       "      <th></th>\n",
       "      <th>engine_displacement</th>\n",
       "      <th>horsepower</th>\n",
       "      <th>vehicle_weight</th>\n",
       "      <th>model_year</th>\n",
       "      <th>fuel_efficiency_mpg</th>\n",
       "    </tr>\n",
       "  </thead>\n",
       "  <tbody>\n",
       "    <tr>\n",
       "      <th>0</th>\n",
       "      <td>220</td>\n",
       "      <td>144.0</td>\n",
       "      <td>2535.887591</td>\n",
       "      <td>2009</td>\n",
       "      <td>16.642943</td>\n",
       "    </tr>\n",
       "    <tr>\n",
       "      <th>1</th>\n",
       "      <td>160</td>\n",
       "      <td>141.0</td>\n",
       "      <td>2741.170484</td>\n",
       "      <td>2019</td>\n",
       "      <td>16.298377</td>\n",
       "    </tr>\n",
       "    <tr>\n",
       "      <th>2</th>\n",
       "      <td>230</td>\n",
       "      <td>155.0</td>\n",
       "      <td>2471.880237</td>\n",
       "      <td>2017</td>\n",
       "      <td>18.591822</td>\n",
       "    </tr>\n",
       "    <tr>\n",
       "      <th>3</th>\n",
       "      <td>150</td>\n",
       "      <td>206.0</td>\n",
       "      <td>3748.164469</td>\n",
       "      <td>2015</td>\n",
       "      <td>11.818843</td>\n",
       "    </tr>\n",
       "    <tr>\n",
       "      <th>4</th>\n",
       "      <td>300</td>\n",
       "      <td>111.0</td>\n",
       "      <td>2135.716359</td>\n",
       "      <td>2006</td>\n",
       "      <td>19.402209</td>\n",
       "    </tr>\n",
       "  </tbody>\n",
       "</table>\n",
       "</div>"
      ],
      "text/plain": [
       "   engine_displacement  horsepower  vehicle_weight  model_year  \\\n",
       "0                  220       144.0     2535.887591        2009   \n",
       "1                  160       141.0     2741.170484        2019   \n",
       "2                  230       155.0     2471.880237        2017   \n",
       "3                  150       206.0     3748.164469        2015   \n",
       "4                  300       111.0     2135.716359        2006   \n",
       "\n",
       "   fuel_efficiency_mpg  \n",
       "0            16.642943  \n",
       "1            16.298377  \n",
       "2            18.591822  \n",
       "3            11.818843  \n",
       "4            19.402209  "
      ]
     },
     "execution_count": 11,
     "metadata": {},
     "output_type": "execute_result"
    }
   ],
   "source": [
    "# clean up the index column\n",
    "df_train = df_train.reset_index(drop=True)\n",
    "df_val = df_val.reset_index(drop=True)\n",
    "df_test = df_test.reset_index(drop=True)\n",
    "\n",
    "df_train.head()"
   ]
  },
  {
   "cell_type": "markdown",
   "id": "942f6765",
   "metadata": {},
   "source": [
    "## Question 3\n",
    "\n",
    "* We need to deal with missing values for the column from Q1.\n",
    "* We have two options: fill it with 0 or with the mean of this variable.\n",
    "* Try both options. For each, train a linear regression model without regularization using the code from the lessons.\n",
    "* For computing the mean, use the training only!\n",
    "* Use the validation dataset to evaluate the models and compare the RMSE of each option.\n",
    "* Round the RMSE scores to 2 decimal digits using round(score, 2)\n",
    "\n",
    "Which option gives better RMSE?\n",
    "Options:\n",
    "\n",
    "* With 0\n",
    "* **With mean**\n",
    "* Both are equally good"
   ]
  },
  {
   "cell_type": "markdown",
   "id": "80657ea6",
   "metadata": {},
   "source": [
    "### Option 1: Fill missing values with 0"
   ]
  },
  {
   "cell_type": "code",
   "execution_count": 13,
   "id": "a17778b2",
   "metadata": {},
   "outputs": [
    {
     "data": {
      "text/plain": [
       "engine_displacement      0\n",
       "horsepower             429\n",
       "vehicle_weight           0\n",
       "model_year               0\n",
       "fuel_efficiency_mpg      0\n",
       "dtype: int64"
      ]
     },
     "execution_count": 13,
     "metadata": {},
     "output_type": "execute_result"
    }
   ],
   "source": [
    "df_train.isnull().sum()"
   ]
  },
  {
   "cell_type": "code",
   "execution_count": 14,
   "id": "6720a0ec",
   "metadata": {},
   "outputs": [
    {
     "data": {
      "text/plain": [
       "array([[ 220.        ,  144.        , 2535.88759124, 2009.        ,\n",
       "          16.64294342],\n",
       "       [ 160.        ,  141.        , 2741.17048439, 2019.        ,\n",
       "          16.29837715],\n",
       "       [ 230.        ,  155.        , 2471.88023726, 2017.        ,\n",
       "          18.59182197],\n",
       "       ...,\n",
       "       [ 210.        ,  152.        , 2500.17568746, 2020.        ,\n",
       "          17.59323665],\n",
       "       [ 250.        ,  154.        , 2254.31324473, 2002.        ,\n",
       "          18.92574819],\n",
       "       [ 210.        ,  152.        , 2435.20360628, 2004.        ,\n",
       "          17.96528447]], shape=(5824, 5))"
      ]
     },
     "execution_count": 14,
     "metadata": {},
     "output_type": "execute_result"
    }
   ],
   "source": [
    "# fill nulls with 0\n",
    "X_train_0 = df_train.fillna(0).values\n",
    "X_val_0 = df_val.fillna(0).values\n",
    "X_train_0"
   ]
  },
  {
   "cell_type": "code",
   "execution_count": 15,
   "id": "9bd6ea36",
   "metadata": {},
   "outputs": [],
   "source": [
    "# get y values\n",
    "y_train = df_train.fuel_efficiency_mpg.values\n",
    "y_val = df_val.fuel_efficiency_mpg.values\n",
    "y_test = df_test.fuel_efficiency_mpg.values\n",
    "\n",
    "del df_train['fuel_efficiency_mpg']\n",
    "del df_val['fuel_efficiency_mpg']\n",
    "del df_test['fuel_efficiency_mpg']"
   ]
  },
  {
   "cell_type": "code",
   "execution_count": 16,
   "id": "14155a05",
   "metadata": {},
   "outputs": [],
   "source": [
    "def train_linear_regression(X, y):\n",
    "    ones = np.ones(X.shape[0]) # bias column \n",
    "    X = np.column_stack([ones, X])\n",
    "\n",
    "    # normal equation\n",
    "    XTX = X.T.dot(X) # gram matrix\n",
    "    XTX_inv = np.linalg.inv(XTX) # inverse XTX\n",
    "    w_full = XTX_inv.dot(X.T).dot(y)\n",
    "\n",
    "    # return bias term and weights\n",
    "    return w_full[0], w_full[1:]"
   ]
  },
  {
   "cell_type": "code",
   "execution_count": 17,
   "id": "487950f1",
   "metadata": {},
   "outputs": [],
   "source": [
    "w0, w = train_linear_regression(X_train_0, y_train)"
   ]
  },
  {
   "cell_type": "code",
   "execution_count": 18,
   "id": "987f486a",
   "metadata": {},
   "outputs": [
    {
     "data": {
      "text/plain": [
       "array([15.36634109, 14.60118181, 12.24703219, ..., 13.61312692,\n",
       "       13.73334321, 15.81604972], shape=(1940,))"
      ]
     },
     "execution_count": 18,
     "metadata": {},
     "output_type": "execute_result"
    }
   ],
   "source": [
    "# Make predictions on validation set\n",
    "y_pred_val_0 = w0 + X_val_0.dot(w)\n",
    "y_pred_val_0"
   ]
  },
  {
   "cell_type": "code",
   "execution_count": 19,
   "id": "700e0e66",
   "metadata": {},
   "outputs": [
    {
     "data": {
      "text/plain": [
       "<Axes: ylabel='Count'>"
      ]
     },
     "execution_count": 19,
     "metadata": {},
     "output_type": "execute_result"
    },
    {
     "data": {
      "image/png": "[encoded data removed]",
      "text/plain": [
       "<Figure size 640x480 with 1 Axes>"
      ]
     },
     "metadata": {},
     "output_type": "display_data"
    }
   ],
   "source": [
    "# check to see if predictions are close to actual\n",
    "sns.histplot(y_pred_val_0, color='red', bins=50)\n",
    "sns.histplot(y_train, color='blue', alpha=0.5, bins=50)"
   ]
  },
  {
   "cell_type": "markdown",
   "id": "fbbe062d",
   "metadata": {},
   "source": [
    "### RMSE for Option 1: filling in missing values with 0"
   ]
  },
  {
   "cell_type": "code",
   "execution_count": 20,
   "id": "39a0b71b",
   "metadata": {},
   "outputs": [],
   "source": [
    "def rmse(y, y_pred):\n",
    "    se = (y - y_pred) ** 2\n",
    "    mse = se.mean()\n",
    "\n",
    "    return np.sqrt(mse)"
   ]
  },
  {
   "cell_type": "code",
   "execution_count": 37,
   "id": "cd3f7c50",
   "metadata": {},
   "outputs": [
    {
     "name": "stdout",
     "output_type": "stream",
     "text": [
      "Option 1 RMSE: 0.0\n"
     ]
    },
    {
     "data": {
      "text/plain": [
       "(array([15.36634109, 14.60118181, 12.24703219, ..., 13.61312692,\n",
       "        13.73334321, 15.81604972], shape=(1940,)),\n",
       " array([15.36634109, 14.60118181, 12.24703219, ..., 13.61312692,\n",
       "        13.73334321, 15.81604972], shape=(1940,)))"
      ]
     },
     "execution_count": 37,
     "metadata": {},
     "output_type": "execute_result"
    }
   ],
   "source": [
    "# Calculate RMSE on validation data\n",
    "rmse_val_0 = rmse(y_val, y_pred_val_0)\n",
    "print(f\"Option 1 RMSE: {round(rmse_val_0, 2)}\")\n",
    "y_pred_val_0, y_val"
   ]
  },
  {
   "cell_type": "markdown",
   "id": "f7e3ff12",
   "metadata": {},
   "source": [
    "### Option 2: Fill missing values with mean of horspower"
   ]
  },
  {
   "cell_type": "code",
   "execution_count": 22,
   "id": "fbc986d1",
   "metadata": {},
   "outputs": [
    {
     "data": {
      "text/plain": [
       "array([[ 220.        ,  144.        , 2535.88759124, 2009.        ],\n",
       "       [ 160.        ,  141.        , 2741.17048439, 2019.        ],\n",
       "       [ 230.        ,  155.        , 2471.88023726, 2017.        ],\n",
       "       ...,\n",
       "       [ 210.        ,  152.        , 2500.17568746, 2020.        ],\n",
       "       [ 250.        ,  154.        , 2254.31324473, 2002.        ],\n",
       "       [ 210.        ,  152.        , 2435.20360628, 2004.        ]],\n",
       "      shape=(5824, 4))"
      ]
     },
     "execution_count": 22,
     "metadata": {},
     "output_type": "execute_result"
    }
   ],
   "source": [
    "X_train_mean = df_train.fillna(df_train['horsepower'].mean()).values\n",
    "X_val_mean = df_val.fillna(df_train['horsepower'].mean()).values\n",
    "X_train_mean"
   ]
  },
  {
   "cell_type": "code",
   "execution_count": 23,
   "id": "4b6032de",
   "metadata": {},
   "outputs": [],
   "source": [
    "w0, w = train_linear_regression(X_train_mean, y_train)"
   ]
  },
  {
   "cell_type": "code",
   "execution_count": 24,
   "id": "99631325",
   "metadata": {},
   "outputs": [
    {
     "data": {
      "text/plain": [
       "array([15.73837498, 14.80338305, 12.03624928, ..., 14.01482574,\n",
       "       13.72161355, 16.1936294 ], shape=(1940,))"
      ]
     },
     "execution_count": 24,
     "metadata": {},
     "output_type": "execute_result"
    }
   ],
   "source": [
    "# Make predictions on validation set  \n",
    "y_pred_val_mean = w0 + X_val_mean.dot(w)\n",
    "y_pred_val_mean"
   ]
  },
  {
   "cell_type": "code",
   "execution_count": 25,
   "id": "104eeea3",
   "metadata": {},
   "outputs": [
    {
     "data": {
      "text/plain": [
       "<Axes: ylabel='Count'>"
      ]
     },
     "execution_count": 25,
     "metadata": {},
     "output_type": "execute_result"
    },
    {
     "data": {
      "image/png": "[encoded data removed]",
      "text/plain": [
       "<Figure size 640x480 with 1 Axes>"
      ]
     },
     "metadata": {},
     "output_type": "display_data"
    }
   ],
   "source": [
    "# check to see if predictions are close to actual\n",
    "sns.histplot(y_pred_val_mean, color='red', bins=50)\n",
    "sns.histplot(y_train, color='blue', alpha=0.5, bins=50)"
   ]
  },
  {
   "cell_type": "code",
   "execution_count": 26,
   "id": "f038c389",
   "metadata": {},
   "outputs": [
    {
     "name": "stdout",
     "output_type": "stream",
     "text": [
      "Option 2 RMSE: 0.46\n"
     ]
    }
   ],
   "source": [
    "# Calculate RMSE on validation data\n",
    "rmse_val_mean = rmse(y_val, y_pred_val_mean)\n",
    "print(f\"Option 2 RMSE: {round(rmse_val_mean, 2)}\")"
   ]
  },
  {
   "cell_type": "code",
   "execution_count": 27,
   "id": "56185a41",
   "metadata": {},
   "outputs": [
    {
     "name": "stdout",
     "output_type": "stream",
     "text": [
      "Option 1 (fill with 0) gives better RMSE\n"
     ]
    }
   ],
   "source": [
    "# Compare the results\n",
    "if rmse_val_0 < rmse_val_mean:\n",
    "    print(\"Option 1 (fill with 0) gives better RMSE\")\n",
    "elif rmse_val_mean < rmse_val_0:\n",
    "    print(\"Option 2 (fill with mean) gives better RMSE\")\n",
    "else:\n",
    "    print(\"Both options are equally good\")"
   ]
  },
  {
   "cell_type": "markdown",
   "id": "34869434",
   "metadata": {},
   "source": [
    "## Question 4\n",
    "\n",
    "Now let's train a regularized linear regression.\n",
    "* For this question, fill the NAs with 0.\n",
    "* Try different values of ```r``` from this list: ```[0, 0.01, 0.1, 1, 5, 10, 100]```.\n",
    "* Use RMSE to evaluate the model on the validation dataset.\n",
    "* Round the RMSE scores to 2 decimal digits.\n",
    "\n",
    "Which ```r``` gives the best RMSE?\n",
    "\n",
    "If there are multiple options, select the smallest ```r```.\n",
    "\n",
    "Options:\n",
    "\n",
    "* 0\n",
    "* **0.01** smallest when rounding to 5 places. They are all equal when rounding to 2\n",
    "* 1\n",
    "* 10\n",
    "* 100"
   ]
  },
  {
   "cell_type": "code",
   "execution_count": 28,
   "id": "84e1efa1",
   "metadata": {},
   "outputs": [],
   "source": [
    "def train_linear_regression_reg(X, y, r=0.001):\n",
    "    ones = np.ones(X.shape[0]) # bias column \n",
    "    X = np.column_stack([ones, X])\n",
    "\n",
    "    # normal equation\n",
    "    XTX = X.T.dot(X) # gram matrix\n",
    "    XTX = XTX + (r * np.eye(XTX.shape[0]))\n",
    "\n",
    "    XTX_inv = np.linalg.inv(XTX) # inverse XTX\n",
    "    w_full = XTX_inv.dot(X.T).dot(y)\n",
    "\n",
    "    # return bias term and weights\n",
    "    return w_full[0], w_full[1:]"
   ]
  },
  {
   "cell_type": "code",
   "execution_count": 30,
   "id": "b4c0d337",
   "metadata": {},
   "outputs": [
    {
     "name": "stdout",
     "output_type": "stream",
     "text": [
      "0 1.8741985741144163e-10 0.0\n",
      "0.01 0.000157407523204256 0.0\n",
      "0.1 0.000698595500874255 0.0\n",
      "1 0.0010640853922659899 0.0\n",
      "5 0.001113356721669706 0.0\n",
      "10 0.0011168025180292376 0.0\n",
      "100 0.001064937981036589 0.03\n"
     ]
    }
   ],
   "source": [
    "for r in [0, 0.01, 0.1, 1, 5, 10, 100]:\n",
    "    w0, w = train_linear_regression_reg(X_train_0, y_train, r=r)\n",
    "\n",
    "    y_pred = w0 + X_val_0.dot(w)\n",
    "\n",
    "    score = rmse(y_val, y_pred)\n",
    "\n",
    "    print(r, w0, f\"{round(score, 2)}\")"
   ]
  },
  {
   "cell_type": "markdown",
   "id": "83218d2c",
   "metadata": {},
   "source": [
    "## Question 5\n",
    "\n",
    "We used seed 42 for splitting the data. Let's find out how selecting the seed influences our score.\n",
    "\n",
    "* Try different seed values: [0, 1, 2, 3, 4, 5, 6, 7, 8, 9].\n",
    "* For each seed, do the train/validation/test split with 60%/20%/20% distribution.\n",
    "* Fill the missing values with 0 and train a model without regularization.\n",
    "* For each seed, evaluate the model on the validation dataset and collect the RMSE scores.\n",
    "* What's the standard deviation of all the scores? To compute the standard deviation, use ```np.std```.\n",
    "\n",
    "Round the result to 3 decimal digits (```round(std, 3)```)\n",
    "\n",
    "What's the value of std?\n",
    "\n",
    "* **0.001**\n",
    "* 0.006\n",
    "* 0.060\n",
    "* 0.600\n",
    "\n",
    "> Note: Standard deviation shows how different the values are. If it's low, then all values are approximately the same. If it's high, the values are different. If standard deviation of scores is low, then our model is stable.\n"
   ]
  },
  {
   "cell_type": "code",
   "execution_count": 33,
   "id": "d809aa60",
   "metadata": {},
   "outputs": [
    {
     "name": "stdout",
     "output_type": "stream",
     "text": [
      "0 16.77697609381412 2.654\n",
      "1 0.8723388129355207 2.651\n",
      "2 -0.026454599698667064 2.652\n",
      "3 0.28514328432518127 2.655\n",
      "4 0.4510286182922363 2.652\n",
      "5 0.0123389223126818 2.653\n",
      "6 0.09112606722391181 2.653\n",
      "7 0.14691700996322635 2.652\n",
      "8 0.21980396037294717 2.653\n",
      "9 0.10112204565730891 2.654\n",
      "Standard Deviation: 0.001\n"
     ]
    }
   ],
   "source": [
    "scores = []\n",
    "for r in [0, 1, 2, 3, 4, 5, 6, 7, 8, 9]:\n",
    "    idx = np.arange(n) \n",
    "\n",
    "    # randomize the data\n",
    "    np.random.seed(r)\n",
    "    np.random.shuffle(idx)\n",
    "\n",
    "    # now split the data using idx\n",
    "    df_train_r = df_cols.iloc[idx[:n_train]]\n",
    "    df_val_r = df_cols.iloc[idx[n_train:n_train+n_val]]\n",
    "    df_test_r = df_cols.iloc[idx[n_train+n_val:]]\n",
    "\n",
    "    # fill nulls with 0\n",
    "    X_train_r = df_train_r.fillna(0).values\n",
    "    X_val_r = df_val_r.fillna(0).values\n",
    "\n",
    "    w0, w = train_linear_regression_reg(X_train_r, y_train, r=r)\n",
    "\n",
    "    y_pred_r = w0 + X_val_r.dot(w)\n",
    "\n",
    "    score = rmse(y_val, y_pred_r)\n",
    "    scores.append(score)\n",
    "    print(r, w0, f\"{round(score, 3)}\")\n",
    "  \n",
    "\n",
    "print(f\"Standard Deviation: {round(np.std(scores), 3)}\")"
   ]
  },
  {
   "cell_type": "markdown",
   "id": "3ac64048",
   "metadata": {},
   "source": [
    "## Question 6\n",
    "\n",
    "Split the dataset like previously, use seed 9.\n",
    "\n",
    "* Combine train and validation datasets.\n",
    "* Fill the missing values with ```0``` and train a model with ```r=0.001```.\n",
    "* What's the RMSE on the test dataset?\n",
    "\n",
    "Options:\n",
    "\n",
    "* 0.15\n",
    "* 0.515\n",
    "* **5.15**\n",
    "* 51.5\n"
   ]
  },
  {
   "cell_type": "code",
   "execution_count": 32,
   "id": "9a16ea87",
   "metadata": {},
   "outputs": [
    {
     "name": "stdout",
     "output_type": "stream",
     "text": [
      "9\n",
      "Score train:  0.5219709782195826\n",
      "score validation:  0.513\n",
      "score test:  0.516\n"
     ]
    },
    {
     "data": {
      "text/plain": [
       "np.float64(0.516)"
      ]
     },
     "execution_count": 32,
     "metadata": {},
     "output_type": "execute_result"
    }
   ],
   "source": [
    "def train_model(seed):\n",
    "    print(seed)\n",
    "    n= len(df_cols)\n",
    "    n_val= int(len(df_cols)*0.2)\n",
    "    n_test = int(len(df_cols)*0.2)\n",
    "    n_train= n-n_val-n_test\n",
    "       \n",
    "    idx=np.arange(n)\n",
    "    np.random.seed(seed)\n",
    "    np.random.shuffle(idx)\n",
    "\n",
    "    df_train = df_cols.iloc[idx[:n_train]]\n",
    "    df_val = df_cols.iloc[idx[n_train:n_train+n_val]]\n",
    "    df_test = df_cols.iloc[idx[n_train+n_val:]]\n",
    "    \n",
    "    y_train=df_train.fuel_efficiency_mpg.values\n",
    "    y_val=df_val.fuel_efficiency_mpg.values\n",
    "    y_test =df_test.fuel_efficiency_mpg.values\n",
    "    \n",
    "    del df_train['fuel_efficiency_mpg']\n",
    "    del df_val['fuel_efficiency_mpg']\n",
    "    del df_test['fuel_efficiency_mpg']\n",
    "    \n",
    "    \n",
    "    \n",
    "    df_train_0= df_train.fillna(0)\n",
    "    w0, w= train_linear_regression(df_train_0.values, y_train)\n",
    "    y_pred = w0 + df_train_0.dot(w)\n",
    "    print(\"Score train: \",rmse(y_train, y_pred))\n",
    "\n",
    "    df_val_0= df_val.fillna(0)\n",
    "    y_pred_v= w0+df_val_0.dot(w)\n",
    "    rmse_value= round(rmse(y_val, y_pred_v),3)\n",
    "    print(\"score validation: \", rmse_value)\n",
    "\n",
    "    df_full_train = pd.concat([df_train, df_val])\n",
    "    df_full_train= df_full_train.reset_index(drop= True)\n",
    "    X_full_train = df_full_train.fillna(0)\n",
    "    y_full_train = np.concatenate([y_train, y_val])\n",
    "    w0, w= train_linear_regression_reg(X_full_train.values, y_full_train, r=0.001)\n",
    "    X_test= df_test.fillna(0)\n",
    "    y_pred= w0+X_test.dot(w)\n",
    "    rmse_value= round(rmse(y_test, y_pred),3)\n",
    "    print(\"score test: \", rmse_value)\n",
    "    return rmse_value\n",
    "\n",
    "train_model(seed=9)"
   ]
  },
  {
   "cell_type": "markdown",
   "id": "644f3867",
   "metadata": {},
   "source": [
    "## Submit the results\n",
    "\n",
    "Submit your results [here](https://courses.datatalks.club/ml-zoomcamp-2025/homework/hw02)\n",
    "\n",
    "If your answer doesn't match options exactly, select the closest one"
   ]
  },
  {
   "cell_type": "markdown",
   "id": "b68f8f0b",
   "metadata": {},
   "source": []
  }
 ],
 "metadata": {
  "kernelspec": {
   "display_name": "ml-zoomcamp",
   "language": "python",
   "name": "python3"
  },
  "language_info": {
   "codemirror_mode": {
    "name": "ipython",
    "version": 3
   },
   "file_extension": ".py",
   "mimetype": "text/x-python",
   "name": "python",
   "nbconvert_exporter": "python",
   "pygments_lexer": "ipython3",
   "version": "3.11.13"
  }
 },
 "nbformat": 4,
 "nbformat_minor": 5
}
